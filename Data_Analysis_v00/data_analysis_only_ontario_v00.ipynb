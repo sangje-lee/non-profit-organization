{
 "cells": [
  {
   "cell_type": "markdown",
   "id": "ab7094b5",
   "metadata": {},
   "source": [
    "## Data Analysis\n",
    "Analysis in Ontario only.\n",
    "Based on age group, gender, education, and immigration status."
   ]
  },
  {
   "cell_type": "code",
   "execution_count": null,
   "id": "3a292423",
   "metadata": {},
   "outputs": [],
   "source": [
    "import pandas as pd\n",
    "import numpy as np"
   ]
  },
  {
   "cell_type": "markdown",
   "id": "d3504457",
   "metadata": {},
   "source": [
    "Import unemployment dataset."
   ]
  },
  {
   "cell_type": "code",
   "execution_count": null,
   "id": "52b01ec2",
   "metadata": {},
   "outputs": [],
   "source": [
    "df = pd.read_csv('36100651.csv')\n",
    "\n",
    "print(df.info())\n",
    "print(df.head(10))"
   ]
  },
  {
   "cell_type": "markdown",
   "id": "1b8e1687",
   "metadata": {},
   "source": [
    "Filter only the essential part of the dataset."
   ]
  },
  {
   "cell_type": "code",
   "execution_count": null,
   "id": "96f3a596",
   "metadata": {},
   "outputs": [],
   "source": [
    "print(\"Grab the only the essential part of database.\")\n",
    "df_sorted = df[['REF_DATE','GEO','Sector','Characteristics','Indicators','UOM','SCALAR_FACTOR','VALUE']]\n",
    "print(df_sorted.head(20))\n",
    "\n",
    "print(df_sorted.info())\n",
    "grouped = df.groupby(['Characteristics'])\n",
    "print(grouped['VALUE'].agg([np.size]))"
   ]
  },
  {
   "cell_type": "markdown",
   "id": "09d9c4ee",
   "metadata": {},
   "source": [
    "Filtering only Ontario."
   ]
  },
  {
   "cell_type": "code",
   "execution_count": null,
   "id": "5dc7cbcf",
   "metadata": {},
   "outputs": [],
   "source": [
    "print(\"\\nGrab the dataset only in Ontario.\")\n",
    "df_ontario = df_sorted.loc[df_sorted['GEO'] == 'Ontario']\n",
    "print(df_ontario.head(20))\n",
    "print(df_ontario.info())\n",
    "grouped = df_ontario.groupby(['Characteristics'])\n",
    "print(grouped['VALUE'].agg([np.size]))"
   ]
  },
  {
   "cell_type": "markdown",
   "id": "1b666ea7",
   "metadata": {},
   "source": [
    "Filtered by age group, gender, education, immigration, aboriginal status in Ontario."
   ]
  },
  {
   "cell_type": "code",
   "execution_count": null,
   "id": "f0089557",
   "metadata": {},
   "outputs": [],
   "source": [
    "print(\"\\nAge group in Ontario\")\n",
    "df_ont_by_age = df_ontario.loc[\n",
    "    (df_ontario['Characteristics'] == '15 to 24 years') |\n",
    "    (df_ontario['Characteristics'] == '25 to 34 years') |\n",
    "    (df_ontario['Characteristics'] == '35 to 44 years') |\n",
    "    (df_ontario['Characteristics'] == '45 to 54 years') |\n",
    "    (df_ontario['Characteristics'] == '55 to 64 years') |\n",
    "    (df_ontario['Characteristics'] == '65 years old and over')]\n",
    "print(df_ont_by_age.head(20))\n",
    "grouped = df_ont_by_age.groupby(['Characteristics'])\n",
    "print(grouped['VALUE'].agg([np.sum, np.size]))\n",
    "print(\"The total number of this one is \",len(df_ont_by_age.index))\n",
    "\n",
    "print(\"\\nGender group in Ontario\")\n",
    "df_ont_by_gender = df_ontario.loc[\n",
    "    (df_ontario['Characteristics'] == 'Female employees') |\n",
    "    (df_ontario['Characteristics'] == 'Male employees')\n",
    "]\n",
    "print(df_ont_by_gender.head(20))\n",
    "grouped = df_ont_by_gender.groupby(['Characteristics'])\n",
    "print(grouped['VALUE'].agg([np.sum, np.size]))\n",
    "print(\"The total number of this one is \",len(df_ont_by_gender.index))\n",
    "\n",
    "print(\"\\nEducation group in Ontario\")\n",
    "df_ont_education = df_ontario.loc[\n",
    "    (df_ontario['Characteristics'] == 'High school diploma and less') |\n",
    "    (df_ontario['Characteristics'] == 'Trade certificate') |\n",
    "    (df_ontario['Characteristics'] == 'University degree and higher')\n",
    "]\n",
    "print(df_ont_education.head(20))\n",
    "grouped = df_ont_education.groupby(['Characteristics'])\n",
    "print(grouped['VALUE'].agg([np.sum, np.size]))\n",
    "print(\"The total number of this one is \",len(df_ont_education.index))\n",
    "\n",
    "print(\"\\nImmigrant group in Ontario\")\n",
    "df_ont_immigrant = df_ontario.loc[\n",
    "    (df_ontario['Characteristics'] == 'Immigrant employees') |\n",
    "    (df_ontario['Characteristics'] == 'Non-immigrant employees')\n",
    "]\n",
    "print(df_ont_immigrant.head(20))\n",
    "grouped = df_ont_immigrant.groupby(['Characteristics'])\n",
    "print(grouped['VALUE'].agg([np.sum, np.size]))\n",
    "print(\"The total number of this one is \",len(df_ont_immigrant.index))\n",
    "\n",
    "print(\"\\nIndigenous group in Ontario\")\n",
    "df_ont_indigenous = df_ontario.loc[\n",
    "    (df_ontario['Characteristics'] == 'Indigenous identity employees') |\n",
    "    (df_ontario['Characteristics'] == 'Non-indigenous identity employees')\n",
    "]\n",
    "print(df_ont_indigenous.head(20))\n",
    "grouped = df_ont_indigenous.groupby(['Characteristics'])\n",
    "print(grouped['VALUE'].agg([np.sum, np.size]))\n",
    "print(\"The total number of this one is \",len(df_ont_indigenous.index))"
   ]
  },
  {
   "cell_type": "markdown",
   "id": "a94e2a86",
   "metadata": {},
   "source": [
    "Filtered by Average annual hours worked by age group, gender, education, immigration in Ontario."
   ]
  },
  {
   "cell_type": "code",
   "execution_count": null,
   "id": "fc3f23c3",
   "metadata": {},
   "outputs": [],
   "source": [
    "df_ont_hours_worked_age = df_ont_by_age.loc[\n",
    "    (df_ont_by_age['Indicators'] == 'Average annual hours worked') \n",
    "]\n",
    "\n",
    "grouped = df_ont_hours_worked_age.groupby(['Characteristics'])\n",
    "print(grouped['VALUE'].agg([np.sum, np.mean, np.std, np.size]))\n",
    "print(\"The total number of this one is \",len(df_ont_hours_worked_age.index))\n",
    "\n",
    "df_ont_hours_worked_gender = df_ont_by_gender.loc[\n",
    "    (df_ont_by_gender['Indicators'] == 'Average annual hours worked') \n",
    "]\n",
    "grouped = df_ont_hours_worked_gender.groupby(['Characteristics'])\n",
    "print(grouped['VALUE'].agg([np.sum, np.mean, np.std, np.size]))\n",
    "print(\"The total number of this one is \",len(df_ont_hours_worked_gender.index))\n",
    "\n",
    "df_ont_hours_worked_education = df_ont_education.loc[\n",
    "    (df_ont_education['Indicators'] == 'Average annual hours worked') \n",
    "]\n",
    "grouped = df_ont_hours_worked_education.groupby(['Characteristics'])\n",
    "print(grouped['VALUE'].agg([np.sum, np.mean, np.std, np.size]))\n",
    "print(\"The total number of this one is \",len(df_ont_hours_worked_education.index))\n",
    "\n",
    "\n",
    "df_ont_hours_worked_immigrant = df_ont_immigrant.loc[\n",
    "    (df_ont_immigrant['Indicators'] == 'Average annual hours worked') \n",
    "]\n",
    "grouped = df_ont_hours_worked_immigrant.groupby(['Characteristics'])\n",
    "print(grouped['VALUE'].agg([np.sum, np.mean, np.std, np.size]))\n",
    "print(\"The total number of this one is \",len(df_ont_hours_worked_immigrant.index))"
   ]
  },
  {
   "cell_type": "markdown",
   "id": "01646880",
   "metadata": {},
   "source": [
    "Filtered by average hourly wage and average annual wages/salaries by age group in Ontario."
   ]
  },
  {
   "cell_type": "code",
   "execution_count": null,
   "id": "6d5e6398",
   "metadata": {},
   "outputs": [],
   "source": [
    "df_ont_hourly_salary_age = df_ont_by_age.loc[\n",
    "    (df_ont_by_age['Indicators'] == 'Average hourly wage')\n",
    "]\n",
    "\n",
    "grouped = df_ont_hourly_salary_age.groupby(['Characteristics'])\n",
    "print(grouped['VALUE'].agg([np.sum, np.mean, np.std, np.size]))\n",
    "print(\"The total number of this one is \",len(df_ont_hourly_salary_age.index))\n",
    "\n",
    "df_ont_salary_age = df_ont_by_age.loc[\n",
    "    (df_ont_by_age['Indicators'] == 'Average annual wages and salaries')\n",
    "]\n",
    "\n",
    "grouped = df_ont_salary_age.groupby(['Characteristics'])\n",
    "print(grouped['VALUE'].agg([np.sum, np.mean, np.std, np.size]))\n",
    "print(\"The total number of this one is \",len(df_ont_salary_age.index))"
   ]
  },
  {
   "cell_type": "markdown",
   "id": "7ccd3543",
   "metadata": {},
   "source": [
    "Filtered by average hourly wage and average annual wages/salaries by  gender in Ontario."
   ]
  },
  {
   "cell_type": "code",
   "execution_count": null,
   "id": "eae3317c",
   "metadata": {},
   "outputs": [],
   "source": [
    "df_ont_hourly_salary_gender = df_ont_by_gender.loc[\n",
    "    (df_ont_by_gender['Indicators'] == 'Average hourly wage')\n",
    "]\n",
    "\n",
    "grouped = df_ont_hourly_salary_gender.groupby(['Characteristics'])\n",
    "print(grouped['VALUE'].agg([np.sum, np.mean, np.std, np.size]))\n",
    "print(\"The total number of this one is \",len(df_ont_hourly_salary_gender.index))\n",
    "\n",
    "df_ont_salary_gender = df_ont_by_gender.loc[\n",
    "    (df_ont_by_gender['Indicators'] == 'Average annual wages and salaries')\n",
    "]\n",
    "\n",
    "grouped = df_ont_salary_gender.groupby(['Characteristics'])\n",
    "print(grouped['VALUE'].agg([np.sum, np.mean, np.std, np.size]))\n",
    "print(\"The total number of this one is \",len(df_ont_salary_gender.index))"
   ]
  },
  {
   "cell_type": "markdown",
   "id": "025377a8",
   "metadata": {},
   "source": [
    "Filtered by average hourly wage and average annual wages/salaries by education in Ontario."
   ]
  },
  {
   "cell_type": "code",
   "execution_count": null,
   "id": "45804f8a",
   "metadata": {},
   "outputs": [],
   "source": [
    "df_ont_hourly_salary_education = df_ont_education.loc[\n",
    "    (df_ont_education['Indicators'] == 'Average hourly wage')\n",
    "]\n",
    "\n",
    "grouped = df_ont_hourly_salary_education.groupby(['Characteristics'])\n",
    "print(grouped['VALUE'].agg([np.sum, np.mean, np.std, np.size]))\n",
    "print(\"The total number of this one is \",len(df_ont_hourly_salary_education.index))\n",
    "\n",
    "df_ont_salary_education = df_ont_education.loc[\n",
    "    (df_ont_education['Indicators'] == 'Average annual wages and salaries')\n",
    "]\n",
    "\n",
    "grouped = df_ont_salary_education.groupby(['Characteristics'])\n",
    "print(grouped['VALUE'].agg([np.sum, np.mean, np.std, np.size]))\n",
    "print(\"The total number of this one is \",len(df_ont_salary_education.index))\n"
   ]
  },
  {
   "cell_type": "markdown",
   "id": "d96490cd",
   "metadata": {},
   "source": [
    "Filtered by average hourly wage and average annual wages/salaries by immigration in Ontario."
   ]
  },
  {
   "cell_type": "code",
   "execution_count": null,
   "id": "de21d33c",
   "metadata": {},
   "outputs": [],
   "source": [
    "df_ont_hourly_salary_immigrant = df_ont_immigrant.loc[\n",
    "    (df_ont_immigrant['Indicators'] == 'Average hourly wage')\n",
    "]\n",
    "\n",
    "grouped = df_ont_hourly_salary_immigrant.groupby(['Characteristics'])\n",
    "print(grouped['VALUE'].agg([np.sum, np.mean, np.std, np.size]))\n",
    "print(\"The total number of this one is \",len(df_ont_hourly_salary_immigrant.index))\n",
    "\n",
    "df_ont_salary_immigrant = df_ont_immigrant.loc[\n",
    "    (df_ont_immigrant['Indicators'] == 'Average annual wages and salaries')\n",
    "]\n",
    "\n",
    "grouped = df_ont_salary_immigrant.groupby(['Characteristics'])\n",
    "print(grouped['VALUE'].agg([np.sum, np.mean, np.std, np.size]))\n",
    "print(\"The total number of this one is \",len(df_ont_salary_immigrant.index))"
   ]
  },
  {
   "cell_type": "markdown",
   "id": "6c9e1f65",
   "metadata": {},
   "source": [
    "Filtered by number of jobs in non-profit organization by age group, gender, education, immigration status in Ontario."
   ]
  },
  {
   "cell_type": "code",
   "execution_count": null,
   "id": "b50d90b6",
   "metadata": {},
   "outputs": [],
   "source": [
    "df_ont_num_jobs_age = df_ont_by_age.loc[df_ontario['Indicators'] == 'Number of jobs']\n",
    "grouped = df_ont_num_jobs_age.groupby(['Characteristics'])\n",
    "print(grouped['VALUE'].agg([np.sum, np.mean, np.std, np.size]))\n",
    "print(\"The total number of this one is \",len(df_ont_num_jobs_age.index))\n",
    "\n",
    "df_ont_num_jobs_gender = df_ont_by_gender.loc[df_ontario['Indicators'] == 'Number of jobs']\n",
    "grouped = df_ont_num_jobs_gender.groupby(['Characteristics'])\n",
    "print(grouped['VALUE'].agg([np.sum, np.mean, np.std, np.size]))\n",
    "print(\"The total number of this one is \",len(df_ont_num_jobs_gender.index))\n",
    "\n",
    "df_ont_num_jobs_education = df_ont_education.loc[df_ontario['Indicators'] == 'Number of jobs']\n",
    "grouped = df_ont_num_jobs_education.groupby(['Characteristics'])\n",
    "print(grouped['VALUE'].agg([np.sum, np.mean, np.std, np.size]))\n",
    "print(\"The total number of this one is \",len(df_ont_num_jobs_education.index))\n",
    "\n",
    "df_ont_num_jobs_immigrant = df_ont_immigrant.loc[df_ontario['Indicators'] == 'Number of jobs']\n",
    "grouped = df_ont_num_jobs_immigrant.groupby(['Characteristics'])\n",
    "print(grouped['VALUE'].agg([np.sum, np.mean, np.std, np.size]))\n",
    "print(\"The total number of this one is \",len(df_ont_num_jobs_immigrant.index))"
   ]
  }
 ],
 "metadata": {
  "kernelspec": {
   "display_name": "Python 3 (ipykernel)",
   "language": "python",
   "name": "python3"
  },
  "language_info": {
   "codemirror_mode": {
    "name": "ipython",
    "version": 3
   },
   "file_extension": ".py",
   "mimetype": "text/x-python",
   "name": "python",
   "nbconvert_exporter": "python",
   "pygments_lexer": "ipython3",
   "version": "3.8.18"
  }
 },
 "nbformat": 4,
 "nbformat_minor": 5
}
